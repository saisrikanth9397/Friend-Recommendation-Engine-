{
  "nbformat": 4,
  "nbformat_minor": 0,
  "metadata": {
    "kernelspec": {
      "display_name": "Python 3",
      "language": "python",
      "name": "python3"
    },
    "language_info": {
      "codemirror_mode": {
        "name": "ipython",
        "version": 3
      },
      "file_extension": ".py",
      "mimetype": "text/x-python",
      "name": "python",
      "nbconvert_exporter": "python",
      "pygments_lexer": "ipython3",
      "version": "3.7.4"
    },
    "colab": {
      "name": "Assignment-4(SAI SRIKANTH SARABU).ipynb",
      "provenance": [],
      "collapsed_sections": []
    }
  },
  "cells": [
    {
      "cell_type": "markdown",
      "metadata": {
        "id": "yyw2UmsigdxF"
      },
      "source": [
        "# CS 5683 - Big Data Analytics\n",
        "## Assignment - 4: Friend Recommendation"
      ]
    },
    {
      "cell_type": "code",
      "metadata": {
        "colab": {
          "base_uri": "https://localhost:8080/"
        },
        "id": "vKDoq6q_ghHi",
        "outputId": "cadc78ca-6839-46de-ee0a-d9bbbe00ae03"
      },
      "source": [
        "from google.colab import drive\n",
        "drive.mount('/content/drive')"
      ],
      "execution_count": 1,
      "outputs": [
        {
          "output_type": "stream",
          "name": "stdout",
          "text": [
            "Mounted at /content/drive\n"
          ]
        }
      ]
    },
    {
      "cell_type": "code",
      "metadata": {
        "id": "ul1FVstSgdxH"
      },
      "source": [
        "import itertools"
      ],
      "execution_count": 2,
      "outputs": []
    },
    {
      "cell_type": "markdown",
      "metadata": {
        "id": "Z1gXT9YZgdxI"
      },
      "source": [
        "### Assignment Total: 10 points (3% of final)"
      ]
    },
    {
      "cell_type": "raw",
      "metadata": {
        "id": "TqAkJuYLgdxJ"
      },
      "source": [
        "In this assignment we will create a simple recommender engine that recommend friends based on number of mutual friends"
      ]
    },
    {
      "cell_type": "markdown",
      "metadata": {
        "id": "MpC3UeQIgdxJ"
      },
      "source": [
        "##### Comsider the following list as a simple matrix 'M' for all tasks of this assignment"
      ]
    },
    {
      "cell_type": "code",
      "metadata": {
        "id": "dfnXzZT6gdxK"
      },
      "source": [
        "input_data = '/content/drive/MyDrive/Sample Data/soc-LiveJournal1Adj.txt'"
      ],
      "execution_count": 3,
      "outputs": []
    },
    {
      "cell_type": "code",
      "metadata": {
        "id": "JTCNOe5SgdxK"
      },
      "source": [
        "direct_friends = dict() # Stores directly connected friends\n",
        "# friend_recommendations stores user recommendations\n",
        "# It should be of type dict[dict]\n",
        "# Example-1: \n",
        "    # friend_recommendations[100][125] = 1 \n",
        "    # -- meaning that users 100 and 125 have 1 mutual friend\n",
        "    # In other words, 1 user has 100 and 125 as direct friends\n",
        "# Example-2: \n",
        "    # friend_recommendations[100][146] = 4 \n",
        "    # -- meaning that users 100 and 125 have 4 mutual friends\n",
        "    # In other words, 4 users have 100 and 146 as direct friends\n",
        "friend_recommendations = {}\n",
        "\n",
        "fp = open(input_data,'r')\n",
        "\n",
        "# Iterate through the data once and fill direct_friends and friend_recommendations\n",
        "for line in fp:\n",
        "    line_split = line.split()\n",
        "    \n",
        "    if len(line_split) == 2:\n",
        "        user = int(line_split[0])\n",
        "        friends = map(int, set(line_split[1].split(',')))\n",
        "        direct_friends[user] = list(friends)\n",
        "        # Generate user pairs to identify friend recommendation\n",
        "        recommendations = list(itertools.permutations(direct_friends[user],2))\n",
        "        \n",
        "        # Fill friend_recommendations below (3 POINTS)\n",
        "        #here I am adding all friends of single person to the dictionary and adding number if same occurs in another person\n",
        "        for i in recommendations:\n",
        "          if i[0] not in friend_recommendations.keys():         #if no key is present\n",
        "            temp_dict={i[1]:1}                                  #initializing count 1 for first time occurrence\n",
        "            friend_recommendations[i[0]] = temp_dict            #adding it dictionary\n",
        "          else:\n",
        "             if i[1] not in friend_recommendations[i[0]]:       #if the first person is present but send person is not then initializing dictionary\n",
        "               temp_dict2={i[1]:1}                              \n",
        "               friend_recommendations[i[0]].update(temp_dict2)  #updating the existing dictionary\n",
        "             else:\n",
        "               friend_recommendations[i[0]][i[1]]+=1            #adding the value if already existing\n",
        "fp.close()"
      ],
      "execution_count": 4,
      "outputs": []
    },
    {
      "cell_type": "code",
      "metadata": {
        "id": "p8Wt4qM4gdxL"
      },
      "source": [
        "# Remove direct friends from friend_recommendations (2 POINTS)\n",
        "\n",
        "#deleting the the frient pair if they are already friends\n",
        "for i in direct_friends:                                  #checking for direct friends fot first person\n",
        "  if i in friend_recommendations:                         #checking if he is present in friend recommendation dictionary\n",
        "    for j in direct_friends[i]:                           #checking for direct friends fot second person\n",
        "      if j in friend_recommendations[i]:                          \n",
        "        del friend_recommendations[i][j]                  #deleting the record"
      ],
      "execution_count": 5,
      "outputs": []
    },
    {
      "cell_type": "code",
      "metadata": {
        "id": "UV6fP0RqgdxL"
      },
      "source": [
        "# Sort recommendations based on number of mutual friends and user IDs here... (3 POINTS)\n",
        "\n",
        "#here I sorted based on decreasing order of mutual friends and ascending order of friend ID\n",
        "sorted_friend_recommendations = {}                             \n",
        "for i in friend_recommendations:\n",
        "  str1 = ''\n",
        "  count =0\n",
        "  for v in sorted(friend_recommendations[i].items(), key = lambda a: (-a[1], a[0])):\n",
        "    if count < 10:\n",
        "      str1+=str(v[0])+', '                              #concatenating by coma separated\n",
        "      count+=1\n",
        "  sorted_friend_recommendations[i] = str1.strip(', ')\n",
        "\n",
        "#print(sorted_friend_recommendations[1153])\n"
      ],
      "execution_count": 6,
      "outputs": []
    },
    {
      "cell_type": "code",
      "metadata": {
        "colab": {
          "base_uri": "https://localhost:8080/"
        },
        "id": "Hjc_vIdSMked",
        "outputId": "cbd50552-6aab-4ab2-e39c-737345269572"
      },
      "source": [
        "# Print recommendations of users 924, 1153, 6712, 8213, 12835, 23478 here (2 POINTS)\n",
        "R = [924, 1153, 6712, 8213, 12835, 23478]\n",
        "for i in R:\n",
        "  print(str(i)+':  '+sorted_friend_recommendations[i])"
      ],
      "execution_count": 7,
      "outputs": [
        {
          "output_type": "stream",
          "name": "stdout",
          "text": [
            "924:  439, 2409, 6995, 11860, 15416, 43748, 45881\n",
            "1153:  1108, 1132, 1150, 1127, 1117, 1120, 1138, 1143, 1118, 1124\n",
            "6712:  6723, 6771, 6756, 6716, 6729, 6748, 6714, 6732, 6717, 6718\n",
            "8213:  8217, 106, 558, 1100, 1423, 2081, 2181, 2413, 3117, 3126\n",
            "12835:  6140, 1680, 5460, 7018, 8509, 10778, 26905, 35374, 35991, 1787\n",
            "23478:  23471, 45481, 557, 2147, 3931, 6455, 6606, 6631, 6634, 6660\n"
          ]
        }
      ]
    },
    {
      "cell_type": "code",
      "metadata": {
        "id": "X0wreR5OgdxM"
      },
      "source": [
        "# Sample recommendation\n",
        "# 11: 27552, 7785, 27573, 27574, 27589, 27590, 27600, 27617, 27620, 27667"
      ],
      "execution_count": 8,
      "outputs": []
    }
  ]
}